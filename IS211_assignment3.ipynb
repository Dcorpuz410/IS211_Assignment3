{
 "cells": [
  {
   "cell_type": "code",
   "execution_count": 2,
   "id": "3cb8ce7a-323a-47e7-80d2-1e6ab6638bfb",
   "metadata": {
    "scrolled": true
   },
   "outputs": [
    {
     "name": "stdout",
     "output_type": "stream",
     "text": [
      "File downloaded and saved as weblog.csv\n",
      "Image requests account for 65.74% of all requests\n",
      "The most popular browser is Chrome with 4042 requests\n"
     ]
    }
   ],
   "source": [
    "import requests\n",
    "import csv\n",
    "import re\n",
    "from collections import Counter\n",
    "\n",
    "def download_log_file(url, file_name):\n",
    "    response = requests.get(url)\n",
    "    with open(file_name, 'wb') as f:\n",
    "        f.write(response.content)\n",
    "    print(f\"File downloaded and saved as {file_name}\")\n",
    "\n",
    "def process_log_file(file_name):\n",
    "    image_count = 0\n",
    "    total_count = 0\n",
    "    browsers = []\n",
    "\n",
    "    image_pattern = r'\\.(jpg|gif|png)$'\n",
    "    browser_pattern = r'(Firefox|Chrome|Safari|MSIE|Trident)'\n",
    "\n",
    "    with open(file_name, mode='r', newline='') as file:\n",
    "        reader = csv.reader(file)\n",
    "        for row in reader:\n",
    "            if len(row) < 5:\n",
    "                continue\n",
    "\n",
    "            path = row[0]\n",
    "            datetime = row[1]\n",
    "            user_agent = row[2]\n",
    "            status = row[3]\n",
    "            size = row[4]\n",
    "\n",
    "            if re.search(image_pattern, path, re.IGNORECASE):\n",
    "                image_count += 1\n",
    "\n",
    "            match = re.search(browser_pattern, user_agent, re.IGNORECASE)\n",
    "            if match:\n",
    "                browsers.append(match.group(1))\n",
    "\n",
    "            total_count += 1\n",
    "\n",
    "    return image_count, total_count, browsers\n",
    "\n",
    "def image_hit_percentage(image_count, total_count):\n",
    "    percentage = (image_count / total_count) * 100\n",
    "    print(f\"Image requests account for {percentage:.2f}% of all requests\")\n",
    "\n",
    "def most_popular_browser(browsers):\n",
    "    if not browsers:  # Check if the list is empty\n",
    "        print(\"No browsers were detected in the log file.\")\n",
    "        return\n",
    "\n",
    "    browser_counter = Counter(browsers)\n",
    "    most_common_browser, count = browser_counter.most_common(1)[0]\n",
    "    print(f\"The most popular browser is {most_common_browser} with {count} requests\")\n",
    "    \n",
    "def main(url):\n",
    "    file_name = 'weblog.csv'\n",
    "    \n",
    "    download_log_file(url, file_name)\n",
    "\n",
    "    image_count, total_count, browsers = process_log_file(file_name)\n",
    "\n",
    "    image_hit_percentage(image_count, total_count)\n",
    "\n",
    "    most_popular_browser(browsers)\n",
    "\n",
    "url = \"https://github.com/Dcorpuz410/IS211_Assignment3/raw/main/weblog.csv\"  # Corrected raw URL\n",
    "main(url)"
   ]
  },
  {
   "cell_type": "code",
   "execution_count": null,
   "id": "50de5bf1-16b4-4f67-8294-6271df784ba0",
   "metadata": {},
   "outputs": [],
   "source": []
  }
 ],
 "metadata": {
  "kernelspec": {
   "display_name": "Python [conda env:base] *",
   "language": "python",
   "name": "conda-base-py"
  },
  "language_info": {
   "codemirror_mode": {
    "name": "ipython",
    "version": 3
   },
   "file_extension": ".py",
   "mimetype": "text/x-python",
   "name": "python",
   "nbconvert_exporter": "python",
   "pygments_lexer": "ipython3",
   "version": "3.12.7"
  }
 },
 "nbformat": 4,
 "nbformat_minor": 5
}
